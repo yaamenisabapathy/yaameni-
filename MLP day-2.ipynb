{
 "cells": [
  {
   "cell_type": "code",
   "execution_count": 2,
   "id": "ed917102",
   "metadata": {},
   "outputs": [
    {
     "name": "stdout",
     "output_type": "stream",
     "text": [
      "Enter age-1\n",
      "invalid age, please check again\n"
     ]
    }
   ],
   "source": [
    "#code for eligibility test\n",
    "age=int(input(\"Enter age\"))\n",
    "if(age<=0):\n",
    "    print(\"invalid age, please check again\")\n",
    "elif(age>=18):\n",
    "    print(\"eligible to vote\",age)\n",
    "    if(age>=60):\n",
    "        print(\"the person is a senior citizen\",age)\n",
    "else:\n",
    "    print(\"not eligible to vote\",age)\n",
    "    if(age>=12): \n",
    "        print(\"the person is a teenager\",age)\n",
    "    else:\n",
    "        print(\"the person is a child\",age)"
   ]
  },
  {
   "cell_type": "code",
   "execution_count": 5,
   "id": "28b6f4f3",
   "metadata": {},
   "outputs": [
    {
     "name": "stdout",
     "output_type": "stream",
     "text": [
      "the final answer is: 1659\n"
     ]
    }
   ],
   "source": [
    "#code for finding the sum of squares \n",
    "number=[1,40,3,7]\n",
    "sum=0\n",
    "for num in number:\n",
    "    sum=sum+num**2\n",
    "print(\"the final answer is:\",sum)"
   ]
  },
  {
   "cell_type": "code",
   "execution_count": 9,
   "id": "cca73df0",
   "metadata": {},
   "outputs": [
    {
     "name": "stdout",
     "output_type": "stream",
     "text": [
      "enter a word:YAAMENI\n",
      "Y\n",
      "A\n",
      "A\n",
      "M\n",
      "E\n",
      "N\n",
      "I\n"
     ]
    }
   ],
   "source": [
    "#iteration over a string\n",
    "a=input(\"enter a word:\")\n",
    "for i in a:\n",
    "    print(i)"
   ]
  },
  {
   "cell_type": "markdown",
   "id": "a6d4726e",
   "metadata": {},
   "source": [
    "#for loop using range\n",
    "a=input(\"enter the name\")\n",
    "for i in range():\n",
    "    if ((i==a)):\n",
    "        continue\n",
    "    else:\n",
    "        print(i)\n",
    "        "
   ]
  },
  {
   "cell_type": "code",
   "execution_count": null,
   "id": "32702ccc",
   "metadata": {},
   "outputs": [],
   "source": [
    "\n",
    "        "
   ]
  },
  {
   "cell_type": "code",
   "execution_count": null,
   "id": "683aa733",
   "metadata": {},
   "outputs": [],
   "source": []
  }
 ],
 "metadata": {
  "kernelspec": {
   "display_name": "Python 3",
   "language": "python",
   "name": "python3"
  },
  "language_info": {
   "codemirror_mode": {
    "name": "ipython",
    "version": 3
   },
   "file_extension": ".py",
   "mimetype": "text/x-python",
   "name": "python",
   "nbconvert_exporter": "python",
   "pygments_lexer": "ipython3",
   "version": "3.8.8"
  }
 },
 "nbformat": 4,
 "nbformat_minor": 5
}
