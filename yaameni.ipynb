{
 "cells": [
  {
   "cell_type": "markdown",
   "metadata": {
    "id": "V-PmFKtjuXDb"
   },
   "source": [
    "Define a function which can compute the sum of two numbers.\n",
    "\n"
   ]
  },
  {
   "cell_type": "code",
   "execution_count": 42,
   "metadata": {
    "id": "SExNc4PDuKcG"
   },
   "outputs": [
    {
     "name": "stdout",
     "output_type": "stream",
     "text": [
      "the sum of two numbers= 70\n"
     ]
    }
   ],
   "source": [
    "def add_number(a,b):\n",
    "    sum=a+b\n",
    "    return sum\n",
    "x=40\n",
    "y=30\n",
    "print(\"the sum of two numbers=\",add_number(x,y))\n"
   ]
  },
  {
   "cell_type": "markdown",
   "metadata": {
    "id": "hUHt4dZnukdv"
   },
   "source": [
    "Define a function that can accept two strings as input and print the string with maximum length in console. If two strings have the same length, then the function should print al l strings line by line.\n",
    "\n"
   ]
  },
  {
   "cell_type": "code",
   "execution_count": null,
   "metadata": {},
   "outputs": [],
   "source": []
  },
  {
   "cell_type": "code",
   "execution_count": 25,
   "metadata": {
    "id": "z-yB_B9Uvikm"
   },
   "outputs": [
    {
     "name": "stdout",
     "output_type": "stream",
     "text": [
      "enter the nameyaameni\n",
      "enter the nameyaameni\n",
      "the string is: yaameni\n",
      "the string is: yaameni\n"
     ]
    }
   ],
   "source": [
    "a=input(\"enter the name\")\n",
    "b=input(\"enter the name\")\n",
    "c=len(a)\n",
    "d=len(b)\n",
    "if(c>d):\n",
    "    print(\"the string which has maximum length is\",a)\n",
    "elif(d>c):\n",
    "    print(\"the string which has maximum length is\",b)\n",
    "else:\n",
    "    print(\"the string is:\",a)\n",
    "    print(\"the string is:\",b)\n"
   ]
  },
  {
   "cell_type": "markdown",
   "metadata": {
    "id": "aqEq2HILvocU"
   },
   "source": [
    "Define a function which can print a dictionary where the keys are numbers between 1 and 20 (both included) and the values are square of keys.\n",
    "\n"
   ]
  },
  {
   "cell_type": "code",
   "execution_count": 12,
   "metadata": {
    "id": "QX-KKleov0cM"
   },
   "outputs": [
    {
     "name": "stdout",
     "output_type": "stream",
     "text": [
      "the key of d are: dict_keys([1, 2, 3, 4, 5])\n",
      "the values of d are: dict_values([1, 4, 9, 16, 25])\n"
     ]
    }
   ],
   "source": [
    "d={1:1,2:4,3:9,4:16,5:25}\n",
    "print(\"the key of d are:\",d.keys())\n",
    "print(\"the values of d are:\",d.values())\n"
   ]
  },
  {
   "cell_type": "markdown",
   "metadata": {
    "id": "mLRsOCV9v2z6"
   },
   "source": [
    "Define a function which can generate a list where the values are square of numbers between 1 and 20 (both included). Then the function needs to print the first 5 elements in the list.\n",
    "\n"
   ]
  },
  {
   "cell_type": "code",
   "execution_count": 48,
   "metadata": {
    "id": "3NLKFL2TwDxd"
   },
   "outputs": [
    {
     "name": "stdout",
     "output_type": "stream",
     "text": [
      "the square of the element [1, 4, 9, 16, 25, 36, 49, 64, 81, 100]\n",
      "the first five elements in the list before squaring: [1, 2, 3, 4, 5]\n",
      "the first five elements in the list after squaring: [1, 4, 9, 16, 25]\n"
     ]
    }
   ],
   "source": [
    "def square(list_):\n",
    "    squares=[]\n",
    "    for l in list_:\n",
    "        squares.append(l**2)\n",
    "    return squares\n",
    "my_list=[1,2,3,4,5,6,7,8,9,10]\n",
    "print(\"the square of the element\",square(my_list))\n",
    "print(\"the first five elements in the list before squaring:\",my_list[0:5])\n",
    "print(\"the first five elements in the list after squaring:\",square(my_list)[0:5])\n",
    "\n"
   ]
  },
  {
   "cell_type": "markdown",
   "metadata": {
    "id": "HXqEYrPgwE7I"
   },
   "source": [
    "With a given tuple (1,2,3,4,5,6,7,8,9,10), write a program to print the first half values in one line and the last half values in one line.\n",
    "\n"
   ]
  },
  {
   "cell_type": "code",
   "execution_count": 17,
   "metadata": {
    "id": "oRaKuDR8wF6N"
   },
   "outputs": [
    {
     "name": "stdout",
     "output_type": "stream",
     "text": [
      "The first of the tupe are: (1, 2, 3, 4, 5)\n",
      "The second half of the tuple are: (6, 7, 8, 9, 10)\n"
     ]
    }
   ],
   "source": [
    "a=(1,2,3,4,5,6,7,8,9,10)\n",
    "print(\"The first of the tupe are:\",a[0:5])\n",
    "print(\"The second half of the tuple are:\",a[5:10])\n"
   ]
  }
 ],
 "metadata": {
  "colab": {
   "name": "Python_ProgrammingQuestions_test.ipynb",
   "provenance": []
  },
  "kernelspec": {
   "display_name": "Python 3",
   "language": "python",
   "name": "python3"
  },
  "language_info": {
   "codemirror_mode": {
    "name": "ipython",
    "version": 3
   },
   "file_extension": ".py",
   "mimetype": "text/x-python",
   "name": "python",
   "nbconvert_exporter": "python",
   "pygments_lexer": "ipython3",
   "version": "3.8.8"
  }
 },
 "nbformat": 4,
 "nbformat_minor": 1
}
